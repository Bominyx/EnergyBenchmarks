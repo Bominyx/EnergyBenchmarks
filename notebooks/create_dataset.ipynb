{
 "cells": [
  {
   "metadata": {
    "ExecuteTime": {
     "end_time": "2025-08-08T13:46:34.322038Z",
     "start_time": "2025-08-08T13:46:29.348539Z"
    }
   },
   "cell_type": "code",
   "source": [
    "import random\n",
    "\n",
    "from datasets import load_dataset, DatasetDict, load_from_disk\n",
    "from transformers import AutoTokenizer, PreTrainedTokenizerBase"
   ],
   "id": "62d9ecf0ca67d791",
   "outputs": [],
   "execution_count": 1
  },
  {
   "metadata": {
    "ExecuteTime": {
     "end_time": "2025-08-08T13:46:34.330538Z",
     "start_time": "2025-08-08T13:46:34.325538Z"
    }
   },
   "cell_type": "code",
   "source": [
    "def create_warmup_measure_dataset(tokenizer: PreTrainedTokenizerBase, output_path: str):\n",
    "    ds = load_dataset(\"agentlans/high-quality-english-sentences\", split=\"test\")\n",
    "\n",
    "    token_lengths = [len(tokenizer.encode(x[\"text\"], add_special_tokens=False)) for x in ds]\n",
    "\n",
    "    sample_per_bucket = 250\n",
    "    warmup_samples = 20\n",
    "\n",
    "    buckets = {\n",
    "        \"A\": {\"min\": 0, \"max\": 15, \"indices\": []},\n",
    "        \"B\": {\"min\": 16, \"max\": 30, \"indices\": []},\n",
    "        \"C\": {\"min\": 31, \"max\": 50, \"indices\": []},\n",
    "        \"D\": {\"min\": 51, \"max\": 100, \"indices\": []},\n",
    "    }\n",
    "\n",
    "    for idx, length in enumerate(token_lengths):\n",
    "        for b in buckets.values():\n",
    "            if b[\"min\"] <= length <= b[\"max\"]:\n",
    "                b[\"indices\"].append(idx)\n",
    "                break\n",
    "\n",
    "    random.seed(42)\n",
    "    final_indices = []\n",
    "    for name, b in buckets.items():\n",
    "        if name == \"A\":\n",
    "            final_indices.extend(random.sample(b[\"indices\"], sample_per_bucket + warmup_samples))\n",
    "        else:\n",
    "            final_indices.extend(random.sample(b[\"indices\"], sample_per_bucket))\n",
    "\n",
    "    warmup_indices = final_indices[:warmup_samples]\n",
    "    final_indices = final_indices[warmup_samples:]\n",
    "\n",
    "    warmup_indices = sorted(warmup_indices, key=lambda i: token_lengths[i])\n",
    "    final_indices = sorted(final_indices, key=lambda i: token_lengths[i])\n",
    "\n",
    "    warmup_dataset = ds.select(warmup_indices)\n",
    "    measurement_dataset = ds.select(final_indices)\n",
    "\n",
    "    dataset_dict = DatasetDict({\n",
    "        \"warmup\": warmup_dataset,\n",
    "        \"measurement\": measurement_dataset\n",
    "    })\n",
    "\n",
    "    dataset_dict.save_to_disk(output_path)\n",
    "    print(f\"Datensatz erfolgreich gespeichert unter: {output_path}\")\n"
   ],
   "id": "f3e572455579dc3a",
   "outputs": [],
   "execution_count": 2
  },
  {
   "metadata": {
    "ExecuteTime": {
     "end_time": "2025-08-08T13:46:53.589249Z",
     "start_time": "2025-08-08T13:46:34.334540Z"
    }
   },
   "cell_type": "code",
   "source": [
    "model_name = \"openai-community/gpt2-xl\"\n",
    "tokenizer = AutoTokenizer.from_pretrained(model_name, clean_up_tokenization_spaces=False)\n",
    "\n",
    "output_path = \"../output/benchmark_dataset\"\n",
    "create_warmup_measure_dataset(tokenizer, output_path=output_path)"
   ],
   "id": "6ac37d72f7063475",
   "outputs": [
    {
     "data": {
      "text/plain": [
       "Saving the dataset (0/1 shards):   0%|          | 0/20 [00:00<?, ? examples/s]"
      ],
      "application/vnd.jupyter.widget-view+json": {
       "version_major": 2,
       "version_minor": 0,
       "model_id": "c310b33182a44bfc96e1b1734d8ea41b"
      }
     },
     "metadata": {},
     "output_type": "display_data"
    },
    {
     "data": {
      "text/plain": [
       "Saving the dataset (0/1 shards):   0%|          | 0/1000 [00:00<?, ? examples/s]"
      ],
      "application/vnd.jupyter.widget-view+json": {
       "version_major": 2,
       "version_minor": 0,
       "model_id": "35a7ad39e3434db684533de89d95f8a6"
      }
     },
     "metadata": {},
     "output_type": "display_data"
    },
    {
     "name": "stdout",
     "output_type": "stream",
     "text": [
      "Datensatz erfolgreich gespeichert unter: ../output/benchmark_dataset\n"
     ]
    }
   ],
   "execution_count": 3
  },
  {
   "metadata": {
    "ExecuteTime": {
     "end_time": "2025-08-08T13:46:53.676749Z",
     "start_time": "2025-08-08T13:46:53.668248Z"
    }
   },
   "cell_type": "code",
   "source": [
    "dataset = load_from_disk(output_path)\n",
    "print(dataset)"
   ],
   "id": "ee0972fb5857959c",
   "outputs": [
    {
     "name": "stdout",
     "output_type": "stream",
     "text": [
      "DatasetDict({\n",
      "    warmup: Dataset({\n",
      "        features: ['text'],\n",
      "        num_rows: 20\n",
      "    })\n",
      "    measurement: Dataset({\n",
      "        features: ['text'],\n",
      "        num_rows: 1000\n",
      "    })\n",
      "})\n"
     ]
    }
   ],
   "execution_count": 4
  },
  {
   "metadata": {},
   "cell_type": "code",
   "outputs": [],
   "execution_count": null,
   "source": "",
   "id": "60790d478337014e"
  }
 ],
 "metadata": {
  "kernelspec": {
   "display_name": "Python 3",
   "language": "python",
   "name": "python3"
  },
  "language_info": {
   "codemirror_mode": {
    "name": "ipython",
    "version": 2
   },
   "file_extension": ".py",
   "mimetype": "text/x-python",
   "name": "python",
   "nbconvert_exporter": "python",
   "pygments_lexer": "ipython2",
   "version": "2.7.6"
  }
 },
 "nbformat": 4,
 "nbformat_minor": 5
}
